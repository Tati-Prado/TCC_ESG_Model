{
 "cells": [
  {
   "cell_type": "markdown",
   "id": "77ce76f0",
   "metadata": {},
   "source": [
    "## Introdução\n",
    "O projeto tem como objetivo o desenvolvimento de um modelo preditivo de riscos ESG (Environmental, Social, Governance) para investimentos sustentáveis. A seguir, detalho a arquitetura, as etapas do desenvolvimento e as decisões tomadas.\n",
    "\n",
    "## Configuração Inicial do Ambiente de Desenvolvimento\n",
    "1. **Criação do Ambiente Virtual**\n",
    "   Para isolar as dependências, configurei o ambiente virtual com os seguintes comandos:\n",
    "   ```bash\n",
    "   cd /Users/tatiana.massoco/Desktop/TCC_ESG_Model\n",
    "   python3 -m venv esg_model_env\n",
    "   source esg_model_env/bin/activate\n",
    "   pip install pandas numpy matplotlib seaborn scikit-learn flask\n",
    "   ```\n",
    "\n",
    "2. **Controle de Versão com Git**\n",
    "   Configurei o controle de versão para rastrear alterações e evitar perda de dados:\n",
    "   ```bash\n",
    "   git init\n",
    "   git remote add origin https://github.com/Tati-Prado/TCC_ESG_Model.git\n",
    "   git add .\n",
    "   git commit -m \"Início do controle de versão do projeto TCC_ESG_Model\"\n",
    "   git push origin main\n",
    "   ```\n",
    "\n",
    "## Organização dos Dados\n",
    "- **Script: `load_datasets.py`**\n",
    "   - Verifica a existência dos arquivos usando `os`.\n",
    "   - Carrega os arquivos com `pandas` e inspeciona a estrutura.\n",
    "   - Identifica e trata erros, como arquivos ausentes.\n",
    "\n",
    "Após análise, identifiquei `ESGData.csv` como o dataset principal, contendo métricas ESG por país de 1960 a 2020.\n",
    "\n",
    "## Limpeza e Transformação dos Dados\n",
    "- **Remoção de Colunas Irrelevantes**: Excluí colunas com valores nulos, como `Unnamed: 66`.\n",
    "- **Transformação Logarítmica**: Usei `log1p` para normalizar distribuições e lidar com outliers.\n",
    "- **Visualização das Distribuições**: Gerei histogramas antes e depois da transformação.\n",
    "\n",
    "### Código para Transformação Logarítmica\n",
    "```python\n",
    "import numpy as np\n",
    "\n",
    "anos_para_transformacao = [\"1960\", \"1970\", \"1980\", \"1990\", \"2000\", \"2010\", \"2020\"]\n",
    "for ano in anos_para_transformacao:\n",
    "    if ano in dados.columns:\n",
    "        dados[f\"{ano}_log\"] = np.log1p(dados[ano])"
   ]
  },
  {
   "cell_type": "code",
   "execution_count": null,
   "id": "f770e563",
   "metadata": {},
   "outputs": [],
   "source": []
  }
 ],
 "metadata": {
  "kernelspec": {
   "display_name": "Python 3 (ipykernel)",
   "language": "python",
   "name": "python3"
  },
  "language_info": {
   "codemirror_mode": {
    "name": "ipython",
    "version": 3
   },
   "file_extension": ".py",
   "mimetype": "text/x-python",
   "name": "python",
   "nbconvert_exporter": "python",
   "pygments_lexer": "ipython3",
   "version": "3.9.13"
  }
 },
 "nbformat": 4,
 "nbformat_minor": 5
}
